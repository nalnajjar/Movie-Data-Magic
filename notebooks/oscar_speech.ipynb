{
 "cells": [
  {
   "cell_type": "code",
   "execution_count": 1,
   "metadata": {},
   "outputs": [],
   "source": [
    "# Dependencies\n",
    "import pandas as pd\n",
    "%matplotlib inline\n",
    "import matplotlib.pyplot as plt\n",
    "import numpy as np"
   ]
  },
  {
   "cell_type": "code",
   "execution_count": 2,
   "metadata": {},
   "outputs": [
    {
     "data": {
      "text/html": [
       "<div>\n",
       "<style scoped>\n",
       "    .dataframe tbody tr th:only-of-type {\n",
       "        vertical-align: middle;\n",
       "    }\n",
       "\n",
       "    .dataframe tbody tr th {\n",
       "        vertical-align: top;\n",
       "    }\n",
       "\n",
       "    .dataframe thead th {\n",
       "        text-align: right;\n",
       "    }\n",
       "</style>\n",
       "<table border=\"1\" class=\"dataframe\">\n",
       "  <thead>\n",
       "    <tr style=\"text-align: right;\">\n",
       "      <th></th>\n",
       "      <th>Year</th>\n",
       "      <th>Category</th>\n",
       "      <th>Film Title</th>\n",
       "      <th>Winner</th>\n",
       "      <th>Presenter</th>\n",
       "      <th>Date &amp; Venue</th>\n",
       "      <th>Speech</th>\n",
       "    </tr>\n",
       "  </thead>\n",
       "  <tbody>\n",
       "    <tr>\n",
       "      <td>0</td>\n",
       "      <td>1939 (12th) Academy Awards</td>\n",
       "      <td>Actress</td>\n",
       "      <td>Gone with the Wind</td>\n",
       "      <td>Vivien Leigh</td>\n",
       "      <td>Spencer Tracy</td>\n",
       "      <td>February 29, 1940; Ambassador Hotel, Cocoanut ...</td>\n",
       "      <td>VIVIEN LEIGH:\\r\\nLadies and gentlemen, please...</td>\n",
       "    </tr>\n",
       "    <tr>\n",
       "      <td>1</td>\n",
       "      <td>1939 (12th) Academy Awards</td>\n",
       "      <td>Actress in a Supporting Role</td>\n",
       "      <td>Gone with the Wind</td>\n",
       "      <td>Hattie McDaniel</td>\n",
       "      <td>Fay Bainter</td>\n",
       "      <td>February 29, 1940; Ambassador Hotel, Cocoanut ...</td>\n",
       "      <td>HATTIE McDANIEL:\\r\\nAcademy of Motion Picture...</td>\n",
       "    </tr>\n",
       "    <tr>\n",
       "      <td>2</td>\n",
       "      <td>1941 (14th) Academy Awards</td>\n",
       "      <td>Actor in a Supporting Role</td>\n",
       "      <td>How Green Was My Valley</td>\n",
       "      <td>Donald Crisp</td>\n",
       "      <td>James Stewart</td>\n",
       "      <td>February 26, 1942; Biltmore Hotel, Biltmore Bo...</td>\n",
       "      <td>DONALD CRISP:\\r\\nLadies and gentlemen, it's a...</td>\n",
       "    </tr>\n",
       "    <tr>\n",
       "      <td>3</td>\n",
       "      <td>1941 (14th) Academy Awards</td>\n",
       "      <td>Actress</td>\n",
       "      <td>Suspicion</td>\n",
       "      <td>Joan Fontaine</td>\n",
       "      <td>Ginger Rogers</td>\n",
       "      <td>February 26, 1942; Biltmore Hotel, Biltmore Bo...</td>\n",
       "      <td>JOAN FONTAINE:\\r\\nI want to thank the ladies ...</td>\n",
       "    </tr>\n",
       "    <tr>\n",
       "      <td>4</td>\n",
       "      <td>1941 (14th) Academy Awards</td>\n",
       "      <td>Actress in a Supporting Role</td>\n",
       "      <td>The Great Lie</td>\n",
       "      <td>Mary Astor</td>\n",
       "      <td>Ginger Rogers</td>\n",
       "      <td>February 26, 1942; Biltmore Hotel, Biltmore Bo...</td>\n",
       "      <td>MARY ASTOR:\\r\\nLadies and gentlemen, twenty-t...</td>\n",
       "    </tr>\n",
       "  </tbody>\n",
       "</table>\n",
       "</div>"
      ],
      "text/plain": [
       "                         Year                      Category  \\\n",
       "0  1939 (12th) Academy Awards                       Actress   \n",
       "1  1939 (12th) Academy Awards  Actress in a Supporting Role   \n",
       "2  1941 (14th) Academy Awards    Actor in a Supporting Role   \n",
       "3  1941 (14th) Academy Awards                       Actress   \n",
       "4  1941 (14th) Academy Awards  Actress in a Supporting Role   \n",
       "\n",
       "                Film Title           Winner      Presenter  \\\n",
       "0       Gone with the Wind     Vivien Leigh  Spencer Tracy   \n",
       "1       Gone with the Wind  Hattie McDaniel    Fay Bainter   \n",
       "2  How Green Was My Valley     Donald Crisp  James Stewart   \n",
       "3                Suspicion    Joan Fontaine  Ginger Rogers   \n",
       "4            The Great Lie       Mary Astor  Ginger Rogers   \n",
       "\n",
       "                                        Date & Venue  \\\n",
       "0  February 29, 1940; Ambassador Hotel, Cocoanut ...   \n",
       "1  February 29, 1940; Ambassador Hotel, Cocoanut ...   \n",
       "2  February 26, 1942; Biltmore Hotel, Biltmore Bo...   \n",
       "3  February 26, 1942; Biltmore Hotel, Biltmore Bo...   \n",
       "4  February 26, 1942; Biltmore Hotel, Biltmore Bo...   \n",
       "\n",
       "                                              Speech  \n",
       "0   VIVIEN LEIGH:\\r\\nLadies and gentlemen, please...  \n",
       "1   HATTIE McDANIEL:\\r\\nAcademy of Motion Picture...  \n",
       "2   DONALD CRISP:\\r\\nLadies and gentlemen, it's a...  \n",
       "3   JOAN FONTAINE:\\r\\nI want to thank the ladies ...  \n",
       "4   MARY ASTOR:\\r\\nLadies and gentlemen, twenty-t...  "
      ]
     },
     "execution_count": 2,
     "metadata": {},
     "output_type": "execute_result"
    }
   ],
   "source": [
    "#import oscar speech csv\n",
    "oscar_speech = pd.read_csv('../data/oscar_speech_db.csv')\n",
    "oscar_speech.head()"
   ]
  },
  {
   "cell_type": "code",
   "execution_count": 3,
   "metadata": {},
   "outputs": [
    {
     "data": {
      "text/html": [
       "<div>\n",
       "<style scoped>\n",
       "    .dataframe tbody tr th:only-of-type {\n",
       "        vertical-align: middle;\n",
       "    }\n",
       "\n",
       "    .dataframe tbody tr th {\n",
       "        vertical-align: top;\n",
       "    }\n",
       "\n",
       "    .dataframe thead th {\n",
       "        text-align: right;\n",
       "    }\n",
       "</style>\n",
       "<table border=\"1\" class=\"dataframe\">\n",
       "  <thead>\n",
       "    <tr style=\"text-align: right;\">\n",
       "      <th></th>\n",
       "      <th>Year</th>\n",
       "      <th>Category</th>\n",
       "      <th>Film Title</th>\n",
       "      <th>Winner</th>\n",
       "      <th>Presenter</th>\n",
       "      <th>Date &amp; Venue</th>\n",
       "      <th>Speech</th>\n",
       "      <th>Year_update</th>\n",
       "      <th>Ceremony</th>\n",
       "    </tr>\n",
       "  </thead>\n",
       "  <tbody>\n",
       "    <tr>\n",
       "      <td>1668</td>\n",
       "      <td>2016 (89th) Academy Awards</td>\n",
       "      <td>Honorary Award</td>\n",
       "      <td>None</td>\n",
       "      <td>To Frederick Wiseman, whose masterful and dist...</td>\n",
       "      <td>Rory Kennedy, Ben Kingsley, Don Cheadle</td>\n",
       "      <td>November 12, 2016; The Governors Awards (Ray D...</td>\n",
       "      <td>FREDERICK WISEMAN:\\r\\nThank you. Thank you. I...</td>\n",
       "      <td>2016</td>\n",
       "      <td>(89th) Academy Awards</td>\n",
       "    </tr>\n",
       "    <tr>\n",
       "      <td>1654</td>\n",
       "      <td>2016 (89th) Academy Awards</td>\n",
       "      <td>Music (Original Score)</td>\n",
       "      <td>La La Land</td>\n",
       "      <td>Justin Hurwitz</td>\n",
       "      <td>Samuel L. Jackson</td>\n",
       "      <td>February 26, 2017; Dolby Theatre</td>\n",
       "      <td>JUSTIN HURWITZ:\\r\\nThank you so much to the A...</td>\n",
       "      <td>2016</td>\n",
       "      <td>(89th) Academy Awards</td>\n",
       "    </tr>\n",
       "    <tr>\n",
       "      <td>1641</td>\n",
       "      <td>2016 (89th) Academy Awards</td>\n",
       "      <td>Actor in a Leading Role</td>\n",
       "      <td>Manchester by the Sea</td>\n",
       "      <td>Casey Affleck</td>\n",
       "      <td>Brie Larson</td>\n",
       "      <td>February 26, 2017; Dolby Theatre</td>\n",
       "      <td>CASEY AFFLECK:\\r\\nThat means so much to me, t...</td>\n",
       "      <td>2016</td>\n",
       "      <td>(89th) Academy Awards</td>\n",
       "    </tr>\n",
       "    <tr>\n",
       "      <td>1642</td>\n",
       "      <td>2016 (89th) Academy Awards</td>\n",
       "      <td>Actor in a Supporting Role</td>\n",
       "      <td>Moonlight</td>\n",
       "      <td>Mahershala Ali</td>\n",
       "      <td>Alicia Vikander</td>\n",
       "      <td>February 26, 2017; Dolby Theatre</td>\n",
       "      <td>MAHERSHALA ALI:\\r\\n[Buttoning his jacket] My ...</td>\n",
       "      <td>2016</td>\n",
       "      <td>(89th) Academy Awards</td>\n",
       "    </tr>\n",
       "    <tr>\n",
       "      <td>1643</td>\n",
       "      <td>2016 (89th) Academy Awards</td>\n",
       "      <td>Actress in a Leading Role</td>\n",
       "      <td>La La Land</td>\n",
       "      <td>Emma Stone</td>\n",
       "      <td>Leonardo DiCaprio</td>\n",
       "      <td>February 26, 2017; Dolby Theatre</td>\n",
       "      <td>EMMA STONE:\\r\\nThank you so much to the Acade...</td>\n",
       "      <td>2016</td>\n",
       "      <td>(89th) Academy Awards</td>\n",
       "    </tr>\n",
       "    <tr>\n",
       "      <td>...</td>\n",
       "      <td>...</td>\n",
       "      <td>...</td>\n",
       "      <td>...</td>\n",
       "      <td>...</td>\n",
       "      <td>...</td>\n",
       "      <td>...</td>\n",
       "      <td>...</td>\n",
       "      <td>...</td>\n",
       "      <td>...</td>\n",
       "    </tr>\n",
       "    <tr>\n",
       "      <td>13</td>\n",
       "      <td>1941 (14th) Academy Awards</td>\n",
       "      <td>Special Award</td>\n",
       "      <td>Fantasia</td>\n",
       "      <td>To Walt Disney, William Garity, John N. A. Haw...</td>\n",
       "      <td>Mervyn LeRoy</td>\n",
       "      <td>February 26, 1942; Biltmore Hotel, Biltmore Bo...</td>\n",
       "      <td>WALT DISNEY:\\r\\n[No speech.]\\n</td>\n",
       "      <td>1941</td>\n",
       "      <td>(14th) Academy Awards</td>\n",
       "    </tr>\n",
       "    <tr>\n",
       "      <td>2</td>\n",
       "      <td>1941 (14th) Academy Awards</td>\n",
       "      <td>Actor in a Supporting Role</td>\n",
       "      <td>How Green Was My Valley</td>\n",
       "      <td>Donald Crisp</td>\n",
       "      <td>James Stewart</td>\n",
       "      <td>February 26, 1942; Biltmore Hotel, Biltmore Bo...</td>\n",
       "      <td>DONALD CRISP:\\r\\nLadies and gentlemen, it's a...</td>\n",
       "      <td>1941</td>\n",
       "      <td>(14th) Academy Awards</td>\n",
       "    </tr>\n",
       "    <tr>\n",
       "      <td>3</td>\n",
       "      <td>1941 (14th) Academy Awards</td>\n",
       "      <td>Actress</td>\n",
       "      <td>Suspicion</td>\n",
       "      <td>Joan Fontaine</td>\n",
       "      <td>Ginger Rogers</td>\n",
       "      <td>February 26, 1942; Biltmore Hotel, Biltmore Bo...</td>\n",
       "      <td>JOAN FONTAINE:\\r\\nI want to thank the ladies ...</td>\n",
       "      <td>1941</td>\n",
       "      <td>(14th) Academy Awards</td>\n",
       "    </tr>\n",
       "    <tr>\n",
       "      <td>1</td>\n",
       "      <td>1939 (12th) Academy Awards</td>\n",
       "      <td>Actress in a Supporting Role</td>\n",
       "      <td>Gone with the Wind</td>\n",
       "      <td>Hattie McDaniel</td>\n",
       "      <td>Fay Bainter</td>\n",
       "      <td>February 29, 1940; Ambassador Hotel, Cocoanut ...</td>\n",
       "      <td>HATTIE McDANIEL:\\r\\nAcademy of Motion Picture...</td>\n",
       "      <td>1939</td>\n",
       "      <td>(12th) Academy Awards</td>\n",
       "    </tr>\n",
       "    <tr>\n",
       "      <td>0</td>\n",
       "      <td>1939 (12th) Academy Awards</td>\n",
       "      <td>Actress</td>\n",
       "      <td>Gone with the Wind</td>\n",
       "      <td>Vivien Leigh</td>\n",
       "      <td>Spencer Tracy</td>\n",
       "      <td>February 29, 1940; Ambassador Hotel, Cocoanut ...</td>\n",
       "      <td>VIVIEN LEIGH:\\r\\nLadies and gentlemen, please...</td>\n",
       "      <td>1939</td>\n",
       "      <td>(12th) Academy Awards</td>\n",
       "    </tr>\n",
       "  </tbody>\n",
       "</table>\n",
       "<p>1649 rows × 9 columns</p>\n",
       "</div>"
      ],
      "text/plain": [
       "                            Year                      Category  \\\n",
       "1668  2016 (89th) Academy Awards                Honorary Award   \n",
       "1654  2016 (89th) Academy Awards        Music (Original Score)   \n",
       "1641  2016 (89th) Academy Awards       Actor in a Leading Role   \n",
       "1642  2016 (89th) Academy Awards    Actor in a Supporting Role   \n",
       "1643  2016 (89th) Academy Awards     Actress in a Leading Role   \n",
       "...                          ...                           ...   \n",
       "13    1941 (14th) Academy Awards                 Special Award   \n",
       "2     1941 (14th) Academy Awards    Actor in a Supporting Role   \n",
       "3     1941 (14th) Academy Awards                       Actress   \n",
       "1     1939 (12th) Academy Awards  Actress in a Supporting Role   \n",
       "0     1939 (12th) Academy Awards                       Actress   \n",
       "\n",
       "                   Film Title  \\\n",
       "1668                     None   \n",
       "1654               La La Land   \n",
       "1641    Manchester by the Sea   \n",
       "1642                Moonlight   \n",
       "1643               La La Land   \n",
       "...                       ...   \n",
       "13                   Fantasia   \n",
       "2     How Green Was My Valley   \n",
       "3                   Suspicion   \n",
       "1          Gone with the Wind   \n",
       "0          Gone with the Wind   \n",
       "\n",
       "                                                 Winner  \\\n",
       "1668  To Frederick Wiseman, whose masterful and dist...   \n",
       "1654                                     Justin Hurwitz   \n",
       "1641                                      Casey Affleck   \n",
       "1642                                     Mahershala Ali   \n",
       "1643                                         Emma Stone   \n",
       "...                                                 ...   \n",
       "13    To Walt Disney, William Garity, John N. A. Haw...   \n",
       "2                                          Donald Crisp   \n",
       "3                                         Joan Fontaine   \n",
       "1                                       Hattie McDaniel   \n",
       "0                                          Vivien Leigh   \n",
       "\n",
       "                                    Presenter  \\\n",
       "1668  Rory Kennedy, Ben Kingsley, Don Cheadle   \n",
       "1654                        Samuel L. Jackson   \n",
       "1641                              Brie Larson   \n",
       "1642                          Alicia Vikander   \n",
       "1643                        Leonardo DiCaprio   \n",
       "...                                       ...   \n",
       "13                               Mervyn LeRoy   \n",
       "2                               James Stewart   \n",
       "3                               Ginger Rogers   \n",
       "1                                 Fay Bainter   \n",
       "0                               Spencer Tracy   \n",
       "\n",
       "                                           Date & Venue  \\\n",
       "1668  November 12, 2016; The Governors Awards (Ray D...   \n",
       "1654                   February 26, 2017; Dolby Theatre   \n",
       "1641                   February 26, 2017; Dolby Theatre   \n",
       "1642                   February 26, 2017; Dolby Theatre   \n",
       "1643                   February 26, 2017; Dolby Theatre   \n",
       "...                                                 ...   \n",
       "13    February 26, 1942; Biltmore Hotel, Biltmore Bo...   \n",
       "2     February 26, 1942; Biltmore Hotel, Biltmore Bo...   \n",
       "3     February 26, 1942; Biltmore Hotel, Biltmore Bo...   \n",
       "1     February 29, 1940; Ambassador Hotel, Cocoanut ...   \n",
       "0     February 29, 1940; Ambassador Hotel, Cocoanut ...   \n",
       "\n",
       "                                                 Speech  Year_update  \\\n",
       "1668   FREDERICK WISEMAN:\\r\\nThank you. Thank you. I...         2016   \n",
       "1654   JUSTIN HURWITZ:\\r\\nThank you so much to the A...         2016   \n",
       "1641   CASEY AFFLECK:\\r\\nThat means so much to me, t...         2016   \n",
       "1642   MAHERSHALA ALI:\\r\\n[Buttoning his jacket] My ...         2016   \n",
       "1643   EMMA STONE:\\r\\nThank you so much to the Acade...         2016   \n",
       "...                                                 ...          ...   \n",
       "13                       WALT DISNEY:\\r\\n[No speech.]\\n         1941   \n",
       "2      DONALD CRISP:\\r\\nLadies and gentlemen, it's a...         1941   \n",
       "3      JOAN FONTAINE:\\r\\nI want to thank the ladies ...         1941   \n",
       "1      HATTIE McDANIEL:\\r\\nAcademy of Motion Picture...         1939   \n",
       "0      VIVIEN LEIGH:\\r\\nLadies and gentlemen, please...         1939   \n",
       "\n",
       "                   Ceremony  \n",
       "1668  (89th) Academy Awards  \n",
       "1654  (89th) Academy Awards  \n",
       "1641  (89th) Academy Awards  \n",
       "1642  (89th) Academy Awards  \n",
       "1643  (89th) Academy Awards  \n",
       "...                     ...  \n",
       "13    (14th) Academy Awards  \n",
       "2     (14th) Academy Awards  \n",
       "3     (14th) Academy Awards  \n",
       "1     (12th) Academy Awards  \n",
       "0     (12th) Academy Awards  \n",
       "\n",
       "[1649 rows x 9 columns]"
      ]
     },
     "execution_count": 3,
     "metadata": {},
     "output_type": "execute_result"
    }
   ],
   "source": [
    "# extract year from current \"Year\" column and append new column\n",
    "oscar_speech[[\"Year_update\", \"Ceremony\"]]= oscar_speech[\"Year\"].str.split(\" \", n = 1, expand = True)\n",
    "#drop \"none\"\n",
    "oscar_speech = oscar_speech[oscar_speech['Year_update']!=\"None\"]\n",
    "# convert to numeric\n",
    "oscar_speech[\"Year_update\"] = pd.to_numeric(oscar_speech[\"Year_update\"])\n",
    "#print dataframe\n",
    "oscar_speech.sort_values(by=['Year_update'], ascending=False)"
   ]
  },
  {
   "cell_type": "code",
   "execution_count": 4,
   "metadata": {},
   "outputs": [],
   "source": [
    "#The transcripts use several different iterations of capitalization for \"Music Begins\", will run searches & combine"
   ]
  },
  {
   "cell_type": "code",
   "execution_count": 5,
   "metadata": {},
   "outputs": [],
   "source": [
    "# new dfs for each sub search\n",
    "df1 = oscar_speech\n",
    "df2 = oscar_speech\n",
    "df3 = oscar_speech\n",
    "df4 = oscar_speech"
   ]
  },
  {
   "cell_type": "code",
   "execution_count": 6,
   "metadata": {},
   "outputs": [
    {
     "data": {
      "text/plain": [
       "Year            9\n",
       "Category        9\n",
       "Film Title      9\n",
       "Winner          9\n",
       "Presenter       9\n",
       "Date & Venue    9\n",
       "Speech          9\n",
       "Year_update     9\n",
       "Ceremony        9\n",
       "Indexes         9\n",
       "dtype: int64"
      ]
     },
     "execution_count": 6,
     "metadata": {},
     "output_type": "execute_result"
    }
   ],
   "source": [
    "#sub string search with first capitalization iteration\n",
    "sub = \"music begins\"\n",
    "df1[\"Indexes\"] = df1[\"Speech\"].str.find(sub)\n",
    "music_cues1 = df1.loc[df1['Indexes'] != -1]\n",
    "music_cues1.count()"
   ]
  },
  {
   "cell_type": "code",
   "execution_count": 7,
   "metadata": {},
   "outputs": [
    {
     "data": {
      "text/plain": [
       "Year            0\n",
       "Category        0\n",
       "Film Title      0\n",
       "Winner          0\n",
       "Presenter       0\n",
       "Date & Venue    0\n",
       "Speech          0\n",
       "Year_update     0\n",
       "Ceremony        0\n",
       "Indexes         0\n",
       "dtype: int64"
      ]
     },
     "execution_count": 7,
     "metadata": {},
     "output_type": "execute_result"
    }
   ],
   "source": [
    "#sub string search with second capitalization iteration - no results\n",
    "sub = \"music Begins\"\n",
    "df2[\"Indexes\"] = df2[\"Speech\"].str.find(sub)\n",
    "music_cues2 = df2.loc[df2['Indexes'] != -1]\n",
    "music_cues2.count()"
   ]
  },
  {
   "cell_type": "code",
   "execution_count": 8,
   "metadata": {},
   "outputs": [
    {
     "data": {
      "text/plain": [
       "Year            0\n",
       "Category        0\n",
       "Film Title      0\n",
       "Winner          0\n",
       "Presenter       0\n",
       "Date & Venue    0\n",
       "Speech          0\n",
       "Year_update     0\n",
       "Ceremony        0\n",
       "Indexes         0\n",
       "dtype: int64"
      ]
     },
     "execution_count": 8,
     "metadata": {},
     "output_type": "execute_result"
    }
   ],
   "source": [
    "#sub string search with third capitalization iteration - no results\n",
    "sub = \"Music Begins\"\n",
    "df3[\"Indexes\"] = df3[\"Speech\"].str.find(sub)\n",
    "music_cues3 = df3.loc[df3['Indexes'] != -1]\n",
    "music_cues3.count()"
   ]
  },
  {
   "cell_type": "code",
   "execution_count": 9,
   "metadata": {},
   "outputs": [
    {
     "data": {
      "text/plain": [
       "Year            20\n",
       "Category        20\n",
       "Film Title      20\n",
       "Winner          20\n",
       "Presenter       20\n",
       "Date & Venue    20\n",
       "Speech          20\n",
       "Year_update     20\n",
       "Ceremony        20\n",
       "Indexes         20\n",
       "dtype: int64"
      ]
     },
     "execution_count": 9,
     "metadata": {},
     "output_type": "execute_result"
    }
   ],
   "source": [
    "#sub string search with fourth capitalization iteration\n",
    "sub = \"Music begins\"\n",
    "df4[\"Indexes\"] = df4[\"Speech\"].str.find(sub)\n",
    "music_cues4 = df4.loc[df4['Indexes'] != -1]\n",
    "music_cues4.count()"
   ]
  },
  {
   "cell_type": "code",
   "execution_count": 10,
   "metadata": {},
   "outputs": [],
   "source": [
    "#Eliminate duplicate \"Ida\" speech, transcript uses both \"music begins\" & \"Music begins\"\n",
    "music_cues4 = music_cues4.loc[music_cues4[\"Film Title\"] != \"Ida\"]"
   ]
  },
  {
   "cell_type": "code",
   "execution_count": 11,
   "metadata": {},
   "outputs": [
    {
     "data": {
      "text/plain": [
       "Year            28\n",
       "Category        28\n",
       "Film Title      28\n",
       "Winner          28\n",
       "Presenter       28\n",
       "Date & Venue    28\n",
       "Speech          28\n",
       "Year_update     28\n",
       "Ceremony        28\n",
       "Indexes         28\n",
       "dtype: int64"
      ]
     },
     "execution_count": 11,
     "metadata": {},
     "output_type": "execute_result"
    }
   ],
   "source": [
    "#combine\n",
    "frames = [music_cues1, music_cues4]\n",
    "combined_music_cues = pd.concat(frames)\n",
    "combined_music_cues.count()"
   ]
  },
  {
   "cell_type": "code",
   "execution_count": 12,
   "metadata": {},
   "outputs": [],
   "source": [
    "#create bins for each decade\n",
    "bins = [0, 1930, 1949, 1959, 1969, 1979, 1989, 1999, 2009, 2019]\n",
    "bin_names = [\"1939\",\"1940-1949\", \"1950-1959\", \"1960-1969\", \"1970-1979\", \"1980-1989\", \"1990-1999\", \"2000-2009\", \"2010-2019\"]"
   ]
  },
  {
   "cell_type": "code",
   "execution_count": 13,
   "metadata": {},
   "outputs": [],
   "source": [
    "# bin by decade\n",
    "combined_music_cues['Decades'] = pd.cut(combined_music_cues['Year_update'], bins, labels = bin_names)\n",
    "# groupby decade\n",
    "combined_music_cues_grouped = combined_music_cues.groupby('Decades')\n",
    "# place decade totals into dataframe\n",
    "counted_cues = combined_music_cues_grouped[['Year']].count()\n",
    "cues = (counted_cues.apply(list).reset_index())"
   ]
  },
  {
   "cell_type": "code",
   "execution_count": 14,
   "metadata": {},
   "outputs": [],
   "source": [
    "# variables\n",
    "decades = np.arange(len(bin_names))\n",
    "get_off_stage=cues.iloc[:,1].values"
   ]
  },
  {
   "cell_type": "code",
   "execution_count": 27,
   "metadata": {},
   "outputs": [
    {
     "data": {
      "image/png": "[encoded data removed]",
      "text/plain": [
       "<Figure size 1296x648 with 1 Axes>"
      ]
     },
     "metadata": {
      "needs_background": "light"
     },
     "output_type": "display_data"
    }
   ],
   "source": [
    "# plot\n",
    "\n",
    "# sizing\n",
    "plt.figure(figsize=(18,9))\n",
    "\n",
    "# bars\n",
    "plt.bar(decades, get_off_stage, alpha=0.6, color='crimson')\n",
    "\n",
    "# labels\n",
    "plt.xlabel('Decade')\n",
    "plt.ylabel('Number of Music Cues')\n",
    "\n",
    "# x-ticks\n",
    "tick_locations = [value for value in decades]\n",
    "plt.xticks(decades, bin_names)\n",
    "\n",
    "# save\n",
    "plt.savefig('../static/images/music_cues.png')\n",
    "\n",
    "# show\n",
    "plt.show()"
   ]
  },
  {
   "cell_type": "code",
   "execution_count": 28,
   "metadata": {},
   "outputs": [
    {
     "data": {
      "text/plain": [
       "Year            14\n",
       "Category        14\n",
       "Film Title      14\n",
       "Winner          14\n",
       "Presenter       14\n",
       "Date & Venue    14\n",
       "Speech          14\n",
       "Year_update     14\n",
       "Ceremony        14\n",
       "Indexes         14\n",
       "Word Count      14\n",
       "dtype: int64"
      ]
     },
     "execution_count": 28,
     "metadata": {},
     "output_type": "execute_result"
    }
   ],
   "source": [
    "#create no-speech df using sub search method\n",
    "sub = \"[No speech.]\"\n",
    "oscar_speech[\"Indexes\"] = oscar_speech[\"Speech\"].str.find(sub)\n",
    "no_speech = oscar_speech.loc[oscar_speech['Indexes'] != -1]\n",
    "no_speech.count()"
   ]
  },
  {
   "cell_type": "code",
   "execution_count": 29,
   "metadata": {},
   "outputs": [
    {
     "name": "stderr",
     "output_type": "stream",
     "text": [
      "/Users/Nathaniel/opt/anaconda3/lib/python3.7/site-packages/ipykernel_launcher.py:2: SettingWithCopyWarning: \n",
      "A value is trying to be set on a copy of a slice from a DataFrame.\n",
      "Try using .loc[row_indexer,col_indexer] = value instead\n",
      "\n",
      "See the caveats in the documentation: http://pandas.pydata.org/pandas-docs/stable/user_guide/indexing.html#returning-a-view-versus-a-copy\n",
      "  \n"
     ]
    }
   ],
   "source": [
    "#bin by decade\n",
    "no_speech['Decades'] = pd.cut(no_speech['Year_update'], bins, labels = bin_names)\n",
    "#groupby decade\n",
    "no_speech_grouped = no_speech.groupby('Decades')\n",
    "# place decade totals into dataframe\n",
    "no_speech_array = no_speech_grouped[['Year']].count()\n",
    "no_speech_array = (no_speech_array.apply(list).reset_index())"
   ]
  },
  {
   "cell_type": "code",
   "execution_count": 30,
   "metadata": {},
   "outputs": [],
   "source": [
    "# variables\n",
    "decades = np.arange(len(bin_names))\n",
    "shy_stars=no_speech_array.iloc[:,1].values"
   ]
  },
  {
   "cell_type": "code",
   "execution_count": 31,
   "metadata": {},
   "outputs": [
    {
     "data": {
      "image/png": "[encoded data removed]",
      "text/plain": [
       "<Figure size 1296x648 with 1 Axes>"
      ]
     },
     "metadata": {
      "needs_background": "light"
     },
     "output_type": "display_data"
    }
   ],
   "source": [
    "# plot\n",
    "\n",
    "# sizing\n",
    "plt.figure(figsize=(18,9))\n",
    "\n",
    "# bars\n",
    "plt.bar(decades, shy_stars, alpha=0.6, color='crimson')\n",
    "\n",
    "# labels\n",
    "plt.xlabel('Decade')\n",
    "plt.ylabel('No Speech Given Instances')\n",
    "\n",
    "# x-ticks\n",
    "tick_locations = [value for value in decades]\n",
    "plt.xticks(decades, bin_names)\n",
    "\n",
    "# save\n",
    "plt.savefig('../static/images/no_speech.png')\n",
    "\n",
    "# show\n",
    "plt.show()"
   ]
  },
  {
   "cell_type": "code",
   "execution_count": 32,
   "metadata": {},
   "outputs": [],
   "source": [
    "# create word counts column to measure speech length\n",
    "oscar_speech_length = oscar_speech\n",
    "oscar_speech_length[\"Word Count\"] = oscar_speech['Speech'].str.split().str.len()\n",
    "oscar_speech_length = oscar_speech_length.drop(columns=['Indexes'])"
   ]
  },
  {
   "cell_type": "code",
   "execution_count": 33,
   "metadata": {},
   "outputs": [
    {
     "data": {
      "text/html": [
       "<div>\n",
       "<style scoped>\n",
       "    .dataframe tbody tr th:only-of-type {\n",
       "        vertical-align: middle;\n",
       "    }\n",
       "\n",
       "    .dataframe tbody tr th {\n",
       "        vertical-align: top;\n",
       "    }\n",
       "\n",
       "    .dataframe thead th {\n",
       "        text-align: right;\n",
       "    }\n",
       "</style>\n",
       "<table border=\"1\" class=\"dataframe\">\n",
       "  <thead>\n",
       "    <tr style=\"text-align: right;\">\n",
       "      <th></th>\n",
       "      <th>Word Count</th>\n",
       "    </tr>\n",
       "    <tr>\n",
       "      <th>Decades</th>\n",
       "      <th></th>\n",
       "    </tr>\n",
       "  </thead>\n",
       "  <tbody>\n",
       "    <tr>\n",
       "      <td>1939</td>\n",
       "      <td>NaN</td>\n",
       "    </tr>\n",
       "    <tr>\n",
       "      <td>1940-1949</td>\n",
       "      <td>93.940000</td>\n",
       "    </tr>\n",
       "    <tr>\n",
       "      <td>1950-1959</td>\n",
       "      <td>49.554622</td>\n",
       "    </tr>\n",
       "    <tr>\n",
       "      <td>1960-1969</td>\n",
       "      <td>52.960145</td>\n",
       "    </tr>\n",
       "    <tr>\n",
       "      <td>1970-1979</td>\n",
       "      <td>103.692308</td>\n",
       "    </tr>\n",
       "    <tr>\n",
       "      <td>1980-1989</td>\n",
       "      <td>134.733068</td>\n",
       "    </tr>\n",
       "    <tr>\n",
       "      <td>1990-1999</td>\n",
       "      <td>154.964286</td>\n",
       "    </tr>\n",
       "    <tr>\n",
       "      <td>2000-2009</td>\n",
       "      <td>169.948413</td>\n",
       "    </tr>\n",
       "    <tr>\n",
       "      <td>2010-2019</td>\n",
       "      <td>267.544974</td>\n",
       "    </tr>\n",
       "  </tbody>\n",
       "</table>\n",
       "</div>"
      ],
      "text/plain": [
       "           Word Count\n",
       "Decades              \n",
       "1939              NaN\n",
       "1940-1949   93.940000\n",
       "1950-1959   49.554622\n",
       "1960-1969   52.960145\n",
       "1970-1979  103.692308\n",
       "1980-1989  134.733068\n",
       "1990-1999  154.964286\n",
       "2000-2009  169.948413\n",
       "2010-2019  267.544974"
      ]
     },
     "execution_count": 33,
     "metadata": {},
     "output_type": "execute_result"
    }
   ],
   "source": [
    "#bin by decade\n",
    "oscar_speech_length['Decades'] = pd.cut(oscar_speech_length['Year_update'], bins, labels = bin_names)\n",
    "#groupby decade\n",
    "oscar_speech_length_grouped = oscar_speech_length.groupby('Decades')\n",
    "# place decade mean speech length into dataframe\n",
    "avg_oscar_speech = oscar_speech_length_grouped[['Word Count']].mean()\n",
    "avg_oscar_speech"
   ]
  },
  {
   "cell_type": "code",
   "execution_count": 34,
   "metadata": {},
   "outputs": [
    {
     "data": {
      "text/html": [
       "<div>\n",
       "<style scoped>\n",
       "    .dataframe tbody tr th:only-of-type {\n",
       "        vertical-align: middle;\n",
       "    }\n",
       "\n",
       "    .dataframe tbody tr th {\n",
       "        vertical-align: top;\n",
       "    }\n",
       "\n",
       "    .dataframe thead th {\n",
       "        text-align: right;\n",
       "    }\n",
       "</style>\n",
       "<table border=\"1\" class=\"dataframe\">\n",
       "  <thead>\n",
       "    <tr style=\"text-align: right;\">\n",
       "      <th></th>\n",
       "      <th>Decades</th>\n",
       "      <th>Word Count</th>\n",
       "    </tr>\n",
       "  </thead>\n",
       "  <tbody>\n",
       "    <tr>\n",
       "      <td>0</td>\n",
       "      <td>1939</td>\n",
       "      <td>NaN</td>\n",
       "    </tr>\n",
       "    <tr>\n",
       "      <td>1</td>\n",
       "      <td>1940-1949</td>\n",
       "      <td>93.940000</td>\n",
       "    </tr>\n",
       "    <tr>\n",
       "      <td>2</td>\n",
       "      <td>1950-1959</td>\n",
       "      <td>49.554622</td>\n",
       "    </tr>\n",
       "    <tr>\n",
       "      <td>3</td>\n",
       "      <td>1960-1969</td>\n",
       "      <td>52.960145</td>\n",
       "    </tr>\n",
       "    <tr>\n",
       "      <td>4</td>\n",
       "      <td>1970-1979</td>\n",
       "      <td>103.692308</td>\n",
       "    </tr>\n",
       "    <tr>\n",
       "      <td>5</td>\n",
       "      <td>1980-1989</td>\n",
       "      <td>134.733068</td>\n",
       "    </tr>\n",
       "    <tr>\n",
       "      <td>6</td>\n",
       "      <td>1990-1999</td>\n",
       "      <td>154.964286</td>\n",
       "    </tr>\n",
       "    <tr>\n",
       "      <td>7</td>\n",
       "      <td>2000-2009</td>\n",
       "      <td>169.948413</td>\n",
       "    </tr>\n",
       "    <tr>\n",
       "      <td>8</td>\n",
       "      <td>2010-2019</td>\n",
       "      <td>267.544974</td>\n",
       "    </tr>\n",
       "  </tbody>\n",
       "</table>\n",
       "</div>"
      ],
      "text/plain": [
       "     Decades  Word Count\n",
       "0       1939         NaN\n",
       "1  1940-1949   93.940000\n",
       "2  1950-1959   49.554622\n",
       "3  1960-1969   52.960145\n",
       "4  1970-1979  103.692308\n",
       "5  1980-1989  134.733068\n",
       "6  1990-1999  154.964286\n",
       "7  2000-2009  169.948413\n",
       "8  2010-2019  267.544974"
      ]
     },
     "execution_count": 34,
     "metadata": {},
     "output_type": "execute_result"
    }
   ],
   "source": [
    "# place into array for plotting\n",
    "avg_oscar_speech = (avg_oscar_speech.apply(list).reset_index())\n",
    "avg_oscar_speech"
   ]
  },
  {
   "cell_type": "code",
   "execution_count": 35,
   "metadata": {},
   "outputs": [],
   "source": [
    "# variables\n",
    "decades = np.arange(len(bin_names))\n",
    "talking_stars=avg_oscar_speech.iloc[:,1].values"
   ]
  },
  {
   "cell_type": "code",
   "execution_count": 36,
   "metadata": {},
   "outputs": [
    {
     "data": {
      "image/png": "[encoded data removed]",
      "text/plain": [
       "<Figure size 1296x648 with 1 Axes>"
      ]
     },
     "metadata": {
      "needs_background": "light"
     },
     "output_type": "display_data"
    }
   ],
   "source": [
    "# plot\n",
    "\n",
    "# sizing\n",
    "plt.figure(figsize=(18,9))\n",
    "\n",
    "# bars\n",
    "plt.bar(decades, talking_stars, alpha=0.6, color='crimson')\n",
    "\n",
    "# labels\n",
    "plt.xlabel('Decade')\n",
    "plt.ylabel('Word Count')\n",
    "\n",
    "# x-ticks\n",
    "tick_locations = [value for value in decades]\n",
    "plt.xticks(decades, bin_names)\n",
    "\n",
    "# save\n",
    "plt.savefig('../static/images/avg_speech_length.png')\n",
    "\n",
    "# show\n",
    "plt.show()"
   ]
  },
  {
   "cell_type": "code",
   "execution_count": null,
   "metadata": {},
   "outputs": [],
   "source": []
  }
 ],
 "metadata": {
  "kernelspec": {
   "display_name": "Python 3",
   "language": "python",
   "name": "python3"
  },
  "language_info": {
   "codemirror_mode": {
    "name": "ipython",
    "version": 3
   },
   "file_extension": ".py",
   "mimetype": "text/x-python",
   "name": "python",
   "nbconvert_exporter": "python",
   "pygments_lexer": "ipython3",
   "version": "3.7.4"
  }
 },
 "nbformat": 4,
 "nbformat_minor": 4
}
